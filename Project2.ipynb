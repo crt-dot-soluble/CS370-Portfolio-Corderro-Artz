{
 "cells": [
  {
   "cell_type": "code",
   "execution_count": 1,
   "id": "ebe55373",
   "metadata": {},
   "outputs": [],
   "source": [
    "from crud_script import CRUDScript\n"
   ]
  },
  {
   "cell_type": "code",
   "execution_count": 2,
   "id": "f2b01cc3",
   "metadata": {},
   "outputs": [],
   "source": [
    "# 1: Imports and CRUD module\n",
    "import dash\n",
    "from dash import dcc, html, dash_table\n",
    "from dash.dependencies import Input, Output\n",
    "import pandas as pd\n",
    "import plotly.express as px\n",
    "\n",
    "# import MongoDB CRUD wrapper\n",
    "from crud_script import CRUDScript"
   ]
  },
  {
   "cell_type": "code",
   "execution_count": 3,
   "id": "de263050",
   "metadata": {},
   "outputs": [
    {
     "name": "stdout",
     "output_type": "stream",
     "text": [
      "['', 'age_upon_outcome', 'animal_id', 'animal_type', 'Breed', 'color', 'date_of_birth', 'datetime', 'monthyear', 'name', 'outcome_subtype', 'outcome_type', 'sex_upon_outcome', 'lat', 'lon', 'age_upon_outcome_in_weeks']\n"
     ]
    }
   ],
   "source": [
    "# 2: Load data from MongoDB via your CRUD module\n",
    "\n",
    "# -- AAC credentials\n",
    "USER            = 'root'\n",
    "PASSWORD        = 'ItA0pKPZnu'\n",
    "HOST            = 'nv-desktop-services.apporto.com'\n",
    "PORT            = 31016\n",
    "DB_NAME         = 'aacdb'\n",
    "COLLECTION_NAME = 'outcomes'\n",
    "\n",
    "\n",
    "crud = CRUDScript(USER, PASSWORD, HOST, PORT, DB_NAME, COLLECTION_NAME)\n",
    "raw_data = crud.read({})      # retrieve all documents\n",
    "df = pd.DataFrame(raw_data)\n",
    "# drop Mongo’s internal _id\n",
    "if '_id' in df.columns:\n",
    "    df = df.drop(columns=['_id'])\n",
    "\n",
    "# rename fields\n",
    "df = df.rename(columns={\n",
    "    'rescue_type':     'RescueType',    # if you created this; otherwise map outcome_type\n",
    "    'breed':           'Breed',\n",
    "    'location_lat':    'lat',\n",
    "    'location_long':   'lon'\n",
    "})\n",
    "\n",
    "\n",
    "# Drop Mongo’s internal _id and rename columns for clarity\n",
    "if '_id' in df.columns:\n",
    "    df = df.drop(columns=['_id'])\n",
    "df = df.rename(columns={\n",
    "    'rescue_type': 'RescueType',\n",
    "    'breed':       'Breed',\n",
    "    'latitude':    'lat',      \n",
    "    'longitude':   'lon'\n",
    "})\n",
    "\n",
    "print(df.columns.tolist())"
   ]
  },
  {
   "cell_type": "code",
   "execution_count": 4,
   "id": "0919aede",
   "metadata": {},
   "outputs": [],
   "source": [
    "# 3: Initialize Dash app\n",
    "\n",
    "app = dash.Dash(\n",
    "    __name__,\n",
    "    external_stylesheets=['https://codepen.io/chriddyp/pen/bWLwgP.css']\n",
    ")\n",
    "server = app.server"
   ]
  },
  {
   "cell_type": "code",
   "execution_count": 5,
   "id": "c6f6599c",
   "metadata": {},
   "outputs": [],
   "source": [
    "# 4: Layout \n",
    "\n",
    "app.layout = html.Div([\n",
    "    html.Div([\n",
    "        html.Img(src='/',\n",
    "                 style={'height': '80px'}),\n",
    "        html.H2('Grazioso Salvare Search-&-Rescue Dashboard',\n",
    "                style={'display': 'inline-block', 'marginLeft': '20px'}),\n",
    "    ], style={'display': 'flex', 'alignItems': 'center'}),\n",
    "\n",
    "    html.Div('Developer: Corderro Artz',\n",
    "             style={'fontStyle': 'italic', 'marginBottom': '20px'}),\n",
    "\n",
    "    # Radio buttons for rescue-type filter\n",
    "    dcc.RadioItems(\n",
    "        id='rescue-filter',\n",
    "        options=[\n",
    "            {'label': 'All',                             'value': 'All'},\n",
    "            {'label': 'Water Rescue',                    'value': 'Water Rescue'},\n",
    "            {'label': 'Mountain or Wilderness Rescue',   'value': 'Mountain or Wilderness Rescue'},\n",
    "            {'label': 'Disaster or Individual Tracking', 'value': 'Disaster or Individual Tracking'},\n",
    "        ],\n",
    "        value='All',\n",
    "        labelStyle={'display': 'inline-block', 'marginRight': '15px'}\n",
    "    ),\n",
    "\n",
    "    # Interactive data table\n",
    "    dash_table.DataTable(\n",
    "        id='results-table',\n",
    "        columns=[{'name': c, 'id': c} for c in df.columns],\n",
    "        data=df.to_dict('records'),\n",
    "        page_size=10,\n",
    "        sort_action='native',\n",
    "        style_table={'overflowX': 'auto'},\n",
    "    ),\n",
    "\n",
    "    # Charts\n",
    "    dcc.Graph(id='map-graph'),\n",
    "    dcc.Graph(id='breed-count-graph'),\n",
    "],\n",
    "style={'padding': '20px'})\n"
   ]
  },
  {
   "cell_type": "code",
   "execution_count": 6,
   "id": "eeae6138",
   "metadata": {},
   "outputs": [],
   "source": [
    "@app.callback(\n",
    "    Output('results-table', 'data'),\n",
    "    Output('map-graph', 'figure'),\n",
    "    Output('breed-count-graph', 'figure'),\n",
    "    Input('rescue-filter', 'value')\n",
    ")\n",
    "def update_dashboard(selected_type):\n",
    "    # filter DataFrame\n",
    "    if selected_type == 'All':\n",
    "        dff = df\n",
    "    else:\n",
    "        dff = df[df['RescueType'] == selected_type]\n",
    "\n",
    "    # 1) update table\n",
    "    table_data = dff.to_dict('records')\n",
    "\n",
    "    # 2) geolocation map\n",
    "    fig_map = px.scatter_geo(\n",
    "        dff,\n",
    "        lat='lat',\n",
    "        lon='lon',\n",
    "        hover_name='Breed',\n",
    "        title='Candidate Dog Locations',\n",
    "        scope='usa'\n",
    "    )\n",
    "\n",
    "    # 3) breed distribution bar chart\n",
    "    counts = dff['Breed'].value_counts().reset_index()\n",
    "    counts.columns = ['Breed', 'Count']\n",
    "    fig_breed = px.bar(\n",
    "        counts,\n",
    "        x='Breed',\n",
    "        y='Count',\n",
    "        title='Breed Distribution'\n",
    "    )\n",
    "\n",
    "    return table_data, fig_map, fig_breed\n"
   ]
  },
  {
   "cell_type": "code",
   "execution_count": null,
   "id": "0f8d0d3f",
   "metadata": {},
   "outputs": [
    {
     "name": "stdout",
     "output_type": "stream",
     "text": [
      "Dash is running on http://127.0.0.1:8085/\n",
      "\n",
      " * Serving Flask app \"__main__\" (lazy loading)\n",
      " * Environment: production\n",
      "\u001b[31m   WARNING: This is a development server. Do not use it in a production deployment.\u001b[0m\n",
      "\u001b[2m   Use a production WSGI server instead.\u001b[0m\n",
      " * Debug mode: on\n"
     ]
    }
   ],
   "source": [
    "# 6: Run the app\n",
    "\n",
    "if __name__ == '__main__':\n",
    "    app.run_server(port=8085, debug=True, use_reloader=False)\n"
   ]
  },
  {
   "cell_type": "code",
   "execution_count": null,
   "id": "54e5d62d",
   "metadata": {},
   "outputs": [],
   "source": []
  }
 ],
 "metadata": {
  "kernelspec": {
   "display_name": "Python 3 (ipykernel)",
   "language": "python",
   "name": "python3"
  },
  "language_info": {
   "codemirror_mode": {
    "name": "ipython",
    "version": 3
   },
   "file_extension": ".py",
   "mimetype": "text/x-python",
   "name": "python",
   "nbconvert_exporter": "python",
   "pygments_lexer": "ipython3",
   "version": "3.9.12"
  }
 },
 "nbformat": 4,
 "nbformat_minor": 5
}
